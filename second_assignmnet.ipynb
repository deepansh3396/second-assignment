{
  "nbformat": 4,
  "nbformat_minor": 0,
  "metadata": {
    "colab": {
      "provenance": [],
      "toc_visible": true
    },
    "kernelspec": {
      "name": "python3",
      "display_name": "Python 3"
    },
    "language_info": {
      "name": "python"
    }
  },
  "cells": [
    {
      "cell_type": "code",
      "execution_count": 1,
      "metadata": {
        "colab": {
          "base_uri": "https://localhost:8080/"
        },
        "id": "Ki6lnpNsKDEB",
        "outputId": "46e07648-cfc1-4a39-c01e-a4ec2f37495e"
      },
      "outputs": [
        {
          "output_type": "stream",
          "name": "stdout",
          "text": [
            "string slicing\n",
            "ast\n",
            "sr\n",
            "gita\n"
          ]
        }
      ],
      "source": [
        "# Discuss string slicing and provide examples?\n",
        "# String slicing >> String slicing in Python allows you to extract a portion of a string by specifying a start and end index. It follows the format string[start:end], where start is the index where slicing begins (inclusive) and end is the index where it ends (exclusive).\n",
        "# example >>\n",
        "string = \"astring\"\n",
        "# using slice constructor\n",
        "s1 = slice(3)\n",
        "s2 = slice(1, 5, 2)\n",
        "s3 = slice (-1, -12, -2)\n",
        "print(\"string slicing\")\n",
        "print(string[s1])\n",
        "print(string[s2])\n",
        "print(string[s3])"
      ]
    },
    {
      "cell_type": "code",
      "source": [
        "#Explain the key features of lists in Python?\n",
        "#Lists are mutable and dynamic; list items can be added, removed or changed after the list is defined. Lists are ordered; newly added items will be placed at the end of the list. Lists use zero-based indexing; every list item has an associated index, and the first item's index is 0.\n",
        "#the key features are as follow >> lists are mutable >> lists are dynamic >> allow duplicate >> copyable >> indexes access >> list can be extended ordered and cleared\n"
      ],
      "metadata": {
        "id": "hMkAxCbRMDwt"
      },
      "execution_count": 2,
      "outputs": []
    },
    {
      "cell_type": "code",
      "source": [
        "#Describe how to access, modify, and delete elements in a list with examples?\n",
        "#Python list elements are ordered by index, a number referring to their placement in the list. List indices start at 0 and increment by one. To access a list element by index, square bracket notation is used: list[index]. similarly we can modify and delete elements in the list of python.\n",
        "#for example >> to access elements\n",
        "test_list = [1, 4, 5, 6, 7]\n",
        "print(\"original list is : \" + str(test_list))\n",
        "print(\"list index-value are: \")\n",
        "for i in range(len(test_list)):\n",
        "  print(i, end=\" \")\n",
        "  print(test_list[i])"
      ],
      "metadata": {
        "colab": {
          "base_uri": "https://localhost:8080/"
        },
        "id": "MUE_yXW1N_RX",
        "outputId": "b0143170-98c0-4f27-9297-321c64a2e5d3"
      },
      "execution_count": 3,
      "outputs": [
        {
          "output_type": "stream",
          "name": "stdout",
          "text": [
            "original list is : [1, 4, 5, 6, 7]\n",
            "list index-value are: \n",
            "0 1\n",
            "1 4\n",
            "2 5\n",
            "3 6\n",
            "4 7\n"
          ]
        }
      ]
    },
    {
      "cell_type": "code",
      "source": [
        "#similarly to modify elements\n",
        "z = [3, 7, 4, 2]\n",
        "z[1] = \"fish\"\n",
        "print(z)"
      ],
      "metadata": {
        "colab": {
          "base_uri": "https://localhost:8080/"
        },
        "id": "ZWY-sgqmQ4lq",
        "outputId": "15f4ede3-0490-4b2e-e82b-8066dd4cc672"
      },
      "execution_count": 4,
      "outputs": [
        {
          "output_type": "stream",
          "name": "stdout",
          "text": [
            "[3, 'fish', 4, 2]\n"
          ]
        }
      ]
    },
    {
      "cell_type": "code",
      "source": [
        "#To delete element\n",
        "z = [2, 5, 7, 4]\n",
        "del z[1]\n",
        "print(z)"
      ],
      "metadata": {
        "colab": {
          "base_uri": "https://localhost:8080/"
        },
        "id": "4lTJPC3aRgqS",
        "outputId": "29d33631-8f0e-47b1-8a6c-77a6d97a0418"
      },
      "execution_count": 9,
      "outputs": [
        {
          "output_type": "stream",
          "name": "stdout",
          "text": [
            "[2, 7, 4]\n"
          ]
        }
      ]
    },
    {
      "cell_type": "code",
      "source": [
        "#Compare and contrast tuples and lists with examples?\n",
        "#Lists >> lists are mutable , The implication of iterations is Time-consuming, The list is better for performing operations, such as insertion and deletion.  Lists consume more memory, Lists have several built-in methods, Unexpected changes and errors are more likely to occur.\n",
        "#Tuples >> Tuples are immutable, The implication of iterations is comparatively Faster,  A Tuple data type is appropriate for accessing the elements, Tuple consumes less memory as compared to the list, Tuple does not have many built-in methods. Because tuples don’t change they are far less error-prone.\n",
        "#for example >>\n",
        "#creat a list with the use of numbers\n",
        "#code to test that list are mutable\n",
        "list = [1, 2, 4, 4, 3, 3, 3, 6, 5]\n",
        "print(\"original list\", list)\n",
        "list[3] = 88\n",
        "print(\"example to show mutability \" , list)\n"
      ],
      "metadata": {
        "colab": {
          "base_uri": "https://localhost:8080/"
        },
        "id": "Bj-saT98SJ0t",
        "outputId": "5a879ddc-3e34-4ad2-fb41-33e6f43ad10e"
      },
      "execution_count": 10,
      "outputs": [
        {
          "output_type": "stream",
          "name": "stdout",
          "text": [
            "original list [1, 2, 4, 4, 3, 3, 3, 6, 5]\n",
            "example to show mutability  [1, 2, 4, 88, 3, 3, 3, 6, 5]\n"
          ]
        }
      ]
    },
    {
      "cell_type": "code",
      "source": [
        "#code to test that tuples are immutable\n",
        "tuple1 = (1, 3, 5, 7, 9)\n",
        "tuple1[0] = 4\n",
        "print(tuple1)"
      ],
      "metadata": {
        "colab": {
          "base_uri": "https://localhost:8080/",
          "height": 193
        },
        "id": "o5ftbsmep7Lc",
        "outputId": "79048e11-b571-4ec5-c369-9e6f90be2a4c"
      },
      "execution_count": 11,
      "outputs": [
        {
          "output_type": "error",
          "ename": "TypeError",
          "evalue": "'tuple' object does not support item assignment",
          "traceback": [
            "\u001b[0;31m---------------------------------------------------------------------------\u001b[0m",
            "\u001b[0;31mTypeError\u001b[0m                                 Traceback (most recent call last)",
            "\u001b[0;32m<ipython-input-11-43d2b5940145>\u001b[0m in \u001b[0;36m<cell line: 3>\u001b[0;34m()\u001b[0m\n\u001b[1;32m      1\u001b[0m \u001b[0;31m#code to test that tuples are immutable\u001b[0m\u001b[0;34m\u001b[0m\u001b[0;34m\u001b[0m\u001b[0m\n\u001b[1;32m      2\u001b[0m \u001b[0mtuple1\u001b[0m \u001b[0;34m=\u001b[0m \u001b[0;34m(\u001b[0m\u001b[0;36m1\u001b[0m\u001b[0;34m,\u001b[0m \u001b[0;36m3\u001b[0m\u001b[0;34m,\u001b[0m \u001b[0;36m5\u001b[0m\u001b[0;34m,\u001b[0m \u001b[0;36m7\u001b[0m\u001b[0;34m,\u001b[0m \u001b[0;36m9\u001b[0m\u001b[0;34m)\u001b[0m\u001b[0;34m\u001b[0m\u001b[0;34m\u001b[0m\u001b[0m\n\u001b[0;32m----> 3\u001b[0;31m \u001b[0mtuple1\u001b[0m\u001b[0;34m[\u001b[0m\u001b[0;36m0\u001b[0m\u001b[0;34m]\u001b[0m \u001b[0;34m=\u001b[0m \u001b[0;36m4\u001b[0m\u001b[0;34m\u001b[0m\u001b[0;34m\u001b[0m\u001b[0m\n\u001b[0m\u001b[1;32m      4\u001b[0m \u001b[0mprint\u001b[0m\u001b[0;34m(\u001b[0m\u001b[0mtuple1\u001b[0m\u001b[0;34m)\u001b[0m\u001b[0;34m\u001b[0m\u001b[0;34m\u001b[0m\u001b[0m\n",
            "\u001b[0;31mTypeError\u001b[0m: 'tuple' object does not support item assignment"
          ]
        }
      ]
    },
    {
      "cell_type": "code",
      "source": [
        "#Describe the key features of sets and provide examples of their use?\n",
        "#sets >> A Set in Python programming is an unordered collection data type that is iterable, mutable and has no duplicate elements.\n",
        "\n",
        "#Set are represented by { }\n",
        "#The major advantage of using a set, as opposed to a list, is that it has a highly optimized method for checking whether a specific element is contained in the set. This is based on a data structure known as a hash table. Since sets are unordered, we cannot access items using indexes as we do in lists.\n",
        "#for example >>\n",
        "var = {\"geeks\", \"for\", \"this\", \"my\"}\n",
        "type(var)"
      ],
      "metadata": {
        "colab": {
          "base_uri": "https://localhost:8080/"
        },
        "id": "FC40xgfeqcMe",
        "outputId": "c2450f4d-b5a7-44e5-c483-5f929d9ee4ea"
      },
      "execution_count": 12,
      "outputs": [
        {
          "output_type": "execute_result",
          "data": {
            "text/plain": [
              "set"
            ]
          },
          "metadata": {},
          "execution_count": 12
        }
      ]
    },
    {
      "cell_type": "code",
      "source": [
        "#Discuss the use cases of tuples and sets in Python programming?\n",
        "#tuples >> Tuple is a collection of Python objects much like a list. The sequence of values stored in a tuple can be of any type, and they are indexed by integers. Values of a tuple are syntactically separated by ‘commas’. Although it is not necessary, it is more common to define a tuple by closing the sequence of values in parentheses.\n",
        "#the main characteristics of tuples are >> Tuple is an immutable sequence in python. >> It cannot be changed or replaced since it is immutable. >> It is defined under parenthesis(). >> Tuples can store any type of element.\n",
        "#for example\n",
        "#creating a empty tuple\n",
        "tuple1 = ()\n",
        "print(\"initial empty tuple: \")\n",
        "print (tuple1)"
      ],
      "metadata": {
        "colab": {
          "base_uri": "https://localhost:8080/"
        },
        "id": "_ho_Nw9xsFTI",
        "outputId": "a3fccaf8-ee97-4b5c-dd04-66b710e365ce"
      },
      "execution_count": 13,
      "outputs": [
        {
          "output_type": "stream",
          "name": "stdout",
          "text": [
            "initial empty tuple: \n",
            "()\n"
          ]
        }
      ]
    },
    {
      "cell_type": "code",
      "source": [
        "#creating a tuple with the use of list\n",
        "list = [1, 2, 3, 4, 5, 6]\n",
        "print(\"\\nTuple using list: \")\n",
        "print(tuple(list))"
      ],
      "metadata": {
        "colab": {
          "base_uri": "https://localhost:8080/"
        },
        "id": "xemmFK3LuoDU",
        "outputId": "872b3e37-ca90-42cd-b571-8bf6fb51bdd0"
      },
      "execution_count": 15,
      "outputs": [
        {
          "output_type": "stream",
          "name": "stdout",
          "text": [
            "\n",
            "Tuple using list: \n",
            "(1, 2, 3, 4, 5, 6)\n"
          ]
        }
      ]
    },
    {
      "cell_type": "code",
      "source": [
        "#creat a tuple with the help of built-in function\n",
        "tuple2 = tuple(\"greek\")\n",
        "print(\"\\nTuple with the use of function: \")\n",
        "print(tuple2)"
      ],
      "metadata": {
        "colab": {
          "base_uri": "https://localhost:8080/"
        },
        "id": "4VaWsBwEvTOh",
        "outputId": "1b9f05d8-ef8a-40b0-d180-e091d7259db4"
      },
      "execution_count": 16,
      "outputs": [
        {
          "output_type": "stream",
          "name": "stdout",
          "text": [
            "\n",
            "Tuple with the use of function: \n",
            "('g', 'r', 'e', 'e', 'k')\n"
          ]
        }
      ]
    },
    {
      "cell_type": "code",
      "source": [
        "#Sets >> In Python, Set is an unordered collection of data type that is iterable, mutable, and has no duplicate elements. The major advantage of using a set, as opposed to a list, is that it has a highly optimized method for checking whether a specific element is contained in the set.\n",
        "#the main characteristics of sets are >> Sets are an unordered collection of elements or unintended collection of items In python. >> Here the order in which the elements are added into the set is not fixed, it can change frequently. >> It is defined under curly braces{}. >> Sets are mutable, however, only immutable objects can be stored in it.\n",
        "#for example\n",
        "#creat a blank set\n",
        "set1 = ()\n",
        "print(\"initial blank set: \")\n",
        "print(set1)"
      ],
      "metadata": {
        "colab": {
          "base_uri": "https://localhost:8080/"
        },
        "id": "MWIic_ccv7nJ",
        "outputId": "776bb6e2-85af-4d76-dcc9-7c643cdfa7d5"
      },
      "execution_count": 17,
      "outputs": [
        {
          "output_type": "stream",
          "name": "stdout",
          "text": [
            "initial blank set: \n",
            "()\n"
          ]
        }
      ]
    },
    {
      "cell_type": "code",
      "source": [
        "#creating a set with the use of constructor (using object to store string)\n",
        "string = 'GreeksForGreeks'\n",
        "set1 = set(string)\n",
        "print(\"\\nSet with the use of an object: \")\n",
        "print(set1)"
      ],
      "metadata": {
        "colab": {
          "base_uri": "https://localhost:8080/"
        },
        "id": "Tb0NExvfxAft",
        "outputId": "76e841d6-c08f-46d7-d5fe-0ea1e40a49e0"
      },
      "execution_count": 19,
      "outputs": [
        {
          "output_type": "stream",
          "name": "stdout",
          "text": [
            "\n",
            "Set with the use of an object: \n",
            "{'k', 'G', 'e', 'F', 's', 'o', 'r'}\n"
          ]
        }
      ]
    },
    {
      "cell_type": "code",
      "source": [
        "#creating a set with the use of list\n",
        "set2 = set([\"greek\", \"for\", \"good\"])\n",
        "print(\"\\nSet with the use of list: \")\n",
        "print(set2)"
      ],
      "metadata": {
        "colab": {
          "base_uri": "https://localhost:8080/"
        },
        "id": "02Q2CZGCxzyp",
        "outputId": "ec02ab35-caaa-44f2-93ac-cf2230847622"
      },
      "execution_count": 20,
      "outputs": [
        {
          "output_type": "stream",
          "name": "stdout",
          "text": [
            "\n",
            "Set with the use of list: \n",
            "{'good', 'for', 'greek'}\n"
          ]
        }
      ]
    },
    {
      "cell_type": "code",
      "source": [
        "#Describe how to add, modify, and delete items in a dictionary with examples?\n",
        "#To add, modify, and delete items in a Python dictionary, use square brackets ([]) with the key to access the desired item, then assign a new value to add/modify, or use the del keyword to delete; essentially, you can directly manipulate key-value pairs within a dictionary using the key to target the specific item you want to change.\n",
        "#to add item in a dictionary >> Syntax: my_dict[new_key] = new_value\n",
        "#for example\n",
        "my_fruits = {\"apple\": 10, \"banana\": 20}\n",
        "my_fruits[\"orange\"] = 8 # adds \"orange\": 8 to the dictionary\n",
        "print(my_fruits)"
      ],
      "metadata": {
        "colab": {
          "base_uri": "https://localhost:8080/"
        },
        "id": "a7zolVWSyao1",
        "outputId": "ef542a63-34b3-4bc4-9909-66965f16a32c"
      },
      "execution_count": 21,
      "outputs": [
        {
          "output_type": "stream",
          "name": "stdout",
          "text": [
            "{'apple': 10, 'banana': 20, 'orange': 8}\n"
          ]
        }
      ]
    },
    {
      "cell_type": "code",
      "source": [
        "#to modifying an item >> Syntax: my_dict[existing_key] = new_value\n",
        "#for example\n",
        "my_fruits[\"banana\"] = 12 #update the value of \"banana\"\n",
        "print(my_fruits)"
      ],
      "metadata": {
        "colab": {
          "base_uri": "https://localhost:8080/"
        },
        "id": "TfFnXPHO3r2y",
        "outputId": "71ca7f1c-6760-47d5-9695-3eae23d0d504"
      },
      "execution_count": 22,
      "outputs": [
        {
          "output_type": "stream",
          "name": "stdout",
          "text": [
            "{'apple': 10, 'banana': 12, 'orange': 8}\n"
          ]
        }
      ]
    },
    {
      "cell_type": "code",
      "source": [
        "#to deleting an item\n",
        "#for example\n",
        "del my_fruits[\"orange\"] #removes the \"orange\" key value pair\n",
        "print(my_fruits)"
      ],
      "metadata": {
        "colab": {
          "base_uri": "https://localhost:8080/"
        },
        "id": "IbITTFGG4Ye3",
        "outputId": "c85eb218-6e04-43dd-aa03-bb589b286592"
      },
      "execution_count": 23,
      "outputs": [
        {
          "output_type": "stream",
          "name": "stdout",
          "text": [
            "{'apple': 10, 'banana': 12}\n"
          ]
        }
      ]
    },
    {
      "cell_type": "code",
      "source": [
        "#Discuss the importance of dictionary keys being immutable and provide examples?\n",
        "#Immutability is essential for keys because it ensures that the dictionary can efficiently look up values based on their keys. If a key was mutable, its hash value could change, making it impossible to find the associated value in the dictionary.\n",
        "#for example\n",
        "mydict = {[1, 2]: '15' }\n",
        "print(mydict[[1, 2]])"
      ],
      "metadata": {
        "colab": {
          "base_uri": "https://localhost:8080/",
          "height": 228
        },
        "id": "z9cFfRcb42xf",
        "outputId": "75e724c9-b5b7-428d-9944-edabaea2c77f"
      },
      "execution_count": 24,
      "outputs": [
        {
          "output_type": "error",
          "ename": "TypeError",
          "evalue": "unhashable type: 'list'",
          "traceback": [
            "\u001b[0;31m---------------------------------------------------------------------------\u001b[0m",
            "\u001b[0;31mTypeError\u001b[0m                                 Traceback (most recent call last)",
            "\u001b[0;32m<ipython-input-24-37899321927a>\u001b[0m in \u001b[0;36m<cell line: 4>\u001b[0;34m()\u001b[0m\n\u001b[1;32m      2\u001b[0m \u001b[0;31m#Immutability is essential for keys because it ensures that the dictionary can efficiently look up values based on their keys. If a key was mutable, its hash value could change, making it impossible to find the associated value in the dictionary.\u001b[0m\u001b[0;34m\u001b[0m\u001b[0;34m\u001b[0m\u001b[0m\n\u001b[1;32m      3\u001b[0m \u001b[0;31m#for example\u001b[0m\u001b[0;34m\u001b[0m\u001b[0;34m\u001b[0m\u001b[0m\n\u001b[0;32m----> 4\u001b[0;31m \u001b[0mmydict\u001b[0m \u001b[0;34m=\u001b[0m \u001b[0;34m{\u001b[0m\u001b[0;34m[\u001b[0m\u001b[0;36m1\u001b[0m\u001b[0;34m,\u001b[0m \u001b[0;36m2\u001b[0m\u001b[0;34m]\u001b[0m\u001b[0;34m:\u001b[0m \u001b[0;34m'15'\u001b[0m \u001b[0;34m}\u001b[0m\u001b[0;34m\u001b[0m\u001b[0;34m\u001b[0m\u001b[0m\n\u001b[0m\u001b[1;32m      5\u001b[0m \u001b[0mprint\u001b[0m\u001b[0;34m(\u001b[0m\u001b[0mmydict\u001b[0m\u001b[0;34m[\u001b[0m\u001b[0;34m[\u001b[0m\u001b[0;36m1\u001b[0m\u001b[0;34m,\u001b[0m \u001b[0;36m2\u001b[0m\u001b[0;34m]\u001b[0m\u001b[0;34m]\u001b[0m\u001b[0;34m)\u001b[0m\u001b[0;34m\u001b[0m\u001b[0;34m\u001b[0m\u001b[0m\n",
            "\u001b[0;31mTypeError\u001b[0m: unhashable type: 'list'"
          ]
        }
      ]
    },
    {
      "cell_type": "code",
      "source": [],
      "metadata": {
        "id": "_MwucQFd6teV"
      },
      "execution_count": null,
      "outputs": []
    }
  ]
}